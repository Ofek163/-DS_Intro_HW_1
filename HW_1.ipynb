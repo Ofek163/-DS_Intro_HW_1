{
 "cells": [
  {
   "cell_type": "code",
   "execution_count": 5,
   "id": "3ff46e32",
   "metadata": {},
   "outputs": [],
   "source": [
    "# Ofek Peretz - 315767731\n",
    "\n",
    "#HW_1\n",
    "\n",
    "#A\n",
    "\n",
    "#Creating the function\n",
    "def my_func(x1,x2,x3):\n",
    "    try:\n",
    "        if type(x1) == float and type(x2) == float and type(x3) == float:\n",
    "            return ((x1+x2+x3)*(x2+x3)*x3)/(x1+x2+x3)\n",
    "        else:\n",
    "            print(\"Error: parameters should be float\")\n",
    "    except:\n",
    "        print(\"Not a number - denominator equals zero\")\n",
    "        \n",
    "        \n",
    "        "
   ]
  },
  {
   "cell_type": "code",
   "execution_count": 6,
   "id": "d453e7e9",
   "metadata": {},
   "outputs": [
    {
     "name": "stdout",
     "output_type": "stream",
     "text": [
      "Error: parameters should be float\n"
     ]
    }
   ],
   "source": [
    "#Testing the function to check if it's good\n",
    "my_func(1,2,3)"
   ]
  },
  {
   "cell_type": "code",
   "execution_count": 7,
   "id": "cf3c4f44",
   "metadata": {},
   "outputs": [
    {
     "data": {
      "text/plain": [
       "15.0"
      ]
     },
     "execution_count": 7,
     "metadata": {},
     "output_type": "execute_result"
    }
   ],
   "source": [
    "my_func(1.0,2.0,3.0)"
   ]
  },
  {
   "cell_type": "code",
   "execution_count": 8,
   "id": "7684d19d",
   "metadata": {},
   "outputs": [
    {
     "name": "stdout",
     "output_type": "stream",
     "text": [
      "Error: parameters should be float\n"
     ]
    }
   ],
   "source": [
    "my_func(0,0,0)"
   ]
  },
  {
   "cell_type": "code",
   "execution_count": 9,
   "id": "ccf012d3",
   "metadata": {},
   "outputs": [
    {
     "name": "stdout",
     "output_type": "stream",
     "text": [
      "Not a number - denominator equals zero\n"
     ]
    }
   ],
   "source": [
    "my_func(0.0,0.0,0.0)"
   ]
  },
  {
   "cell_type": "code",
   "execution_count": 10,
   "id": "d7a2b928",
   "metadata": {},
   "outputs": [
    {
     "name": "stdout",
     "output_type": "stream",
     "text": [
      "Not a number - denominator equals zero\n"
     ]
    }
   ],
   "source": [
    "my_func(5.0,0.0,-5.0)"
   ]
  },
  {
   "cell_type": "code",
   "execution_count": 11,
   "id": "cb9f3dd8",
   "metadata": {},
   "outputs": [
    {
     "data": {
      "text/plain": [
       "16.0"
      ]
     },
     "execution_count": 11,
     "metadata": {},
     "output_type": "execute_result"
    }
   ],
   "source": [
    "my_func(5.0,0.0,-4.0)"
   ]
  },
  {
   "cell_type": "code",
   "execution_count": 12,
   "id": "72d33b02",
   "metadata": {},
   "outputs": [],
   "source": [
    "#B\n",
    "\n",
    "#Creating the function\n",
    "def convert(hours,minutes):\n",
    "    if hours < 0 or minutes < 0 :\n",
    "        print(\"Input error!\")\n",
    "    else:\n",
    "        return hours*60*60 + minutes*60\n"
   ]
  },
  {
   "cell_type": "code",
   "execution_count": 13,
   "id": "b6c4e617",
   "metadata": {},
   "outputs": [
    {
     "data": {
      "text/plain": [
       "7200"
      ]
     },
     "execution_count": 13,
     "metadata": {},
     "output_type": "execute_result"
    }
   ],
   "source": [
    "#Testing the function to check if it's good\n",
    "convert(2,0)"
   ]
  },
  {
   "cell_type": "code",
   "execution_count": 14,
   "id": "6b32d9da",
   "metadata": {},
   "outputs": [
    {
     "data": {
      "text/plain": [
       "6600.0"
      ]
     },
     "execution_count": 14,
     "metadata": {},
     "output_type": "execute_result"
    }
   ],
   "source": [
    "convert(1.75,5)"
   ]
  },
  {
   "cell_type": "code",
   "execution_count": 15,
   "id": "619a2198",
   "metadata": {},
   "outputs": [
    {
     "name": "stdout",
     "output_type": "stream",
     "text": [
      "Input error!\n"
     ]
    }
   ],
   "source": [
    "convert(-2,-3)"
   ]
  },
  {
   "cell_type": "code",
   "execution_count": null,
   "id": "934db1aa",
   "metadata": {},
   "outputs": [],
   "source": []
  }
 ],
 "metadata": {
  "kernelspec": {
   "display_name": "Python 3 (ipykernel)",
   "language": "python",
   "name": "python3"
  },
  "language_info": {
   "codemirror_mode": {
    "name": "ipython",
    "version": 3
   },
   "file_extension": ".py",
   "mimetype": "text/x-python",
   "name": "python",
   "nbconvert_exporter": "python",
   "pygments_lexer": "ipython3",
   "version": "3.9.7"
  }
 },
 "nbformat": 4,
 "nbformat_minor": 5
}
